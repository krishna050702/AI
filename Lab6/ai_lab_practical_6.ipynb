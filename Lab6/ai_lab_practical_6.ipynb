{
  "cells": [
    {
      "cell_type": "markdown",
      "metadata": {
        "id": "nIwAArKOlER9"
      },
      "source": [
        "#### Name:- Krishna Mundada\n",
        "#### Roll no:- E-45\n",
        "#### Branch:- AI-ML\n",
        "#### Practical 6: Naive-Bayes algorithm\n",
        "#### AIM: Write a program to implement naive-bayes algorithm"
      ]
    },
    {
      "cell_type": "markdown",
      "metadata": {
        "id": "NoS_cWiEpzVU"
      },
      "source": []
    },
    {
      "cell_type": "markdown",
      "metadata": {
        "id": "QePdJQcpresk"
      },
      "source": [
        "## Step 1: import data"
      ]
    },
    {
      "cell_type": "code",
      "execution_count": 1,
      "metadata": {
        "colab": {
          "base_uri": "https://localhost:8080/"
        },
        "id": "iXY6IbVasZqC",
        "outputId": "4a2b7d0b-cb05-49fa-9b1f-939686d32a36"
      },
      "outputs": [
        {
          "name": "stdout",
          "output_type": "stream",
          "text": [
            "     outlook temperature humidity  windy playgolf\n",
            "0      rainy         hot     high  False       no\n",
            "1      rainy         hot     high   True       no\n",
            "2   overcast         hot     high  False      yes\n",
            "3      sunny        mild     high  False      yes\n",
            "4      sunny        cool   normal  False      yes\n",
            "5      sunny        cool   normal   True       no\n",
            "6   overcast        cool   normal   True      yes\n",
            "7      rainy        mild     high  False       no\n",
            "8      rainy        cool   normal  False      yes\n",
            "9      sunny        mild   normal  False      yes\n",
            "10     rainy        mild   normal   True      yes\n",
            "11  overcast        mild     high   True      yes\n",
            "12  overcast         hot   normal  False      yes\n",
            "13     sunny        mild     high   True       no\n"
          ]
        }
      ],
      "source": [
        "import pandas as pd\n",
        "import numpy as np\n",
        "data = pd.read_csv('data1.csv')\n",
        "data_arr = np.array(data)\n",
        "print(data)"
      ]
    },
    {
      "cell_type": "markdown",
      "metadata": {
        "id": "XxCf99-q7uxX"
      },
      "source": [
        "## Step 2: filter data"
      ]
    },
    {
      "cell_type": "code",
      "execution_count": 2,
      "metadata": {
        "colab": {
          "base_uri": "https://localhost:8080/"
        },
        "id": "7ygny-Qwsvih",
        "outputId": "8e0f702e-c75a-4bf0-a20e-5268228bf389"
      },
      "outputs": [
        {
          "name": "stdout",
          "output_type": "stream",
          "text": [
            "{'total': 14, 'type': {'no': 5, 'yes': 9}}\n"
          ]
        }
      ],
      "source": [
        "verdicts = {\"total\":0, \"type\":{}}\n",
        "\n",
        "cols = data_arr.shape[1]\n",
        "for i in data_arr[:,cols-1]:\n",
        "\n",
        "  if(str(i) not in verdicts[\"type\"].keys()):\n",
        "    verdicts[\"type\"][str(i)] = 0\n",
        "  verdicts[\"type\"][str(i)] += 1\n",
        "  verdicts[\"total\"] += 1\n",
        "\n",
        "print(verdicts)"
      ]
    },
    {
      "cell_type": "markdown",
      "metadata": {
        "id": "uv2UVaDL73yH"
      },
      "source": [
        "## Step 3: frequency set"
      ]
    },
    {
      "cell_type": "code",
      "execution_count": 3,
      "metadata": {
        "colab": {
          "base_uri": "https://localhost:8080/"
        },
        "id": "PBcxQXhNwkIh",
        "outputId": "04db1ce2-c8e2-4525-fa31-60fd16f91f43"
      },
      "outputs": [
        {
          "name": "stdout",
          "output_type": "stream",
          "text": [
            "[{'data': {'rainy': {'count': 5, 'verdict': {'no': 3, 'yes': 2}}, 'overcast': {'count': 4, 'verdict': {'yes': 4}}, 'sunny': {'count': 5, 'verdict': {'yes': 3, 'no': 2}}}, 'feature': 'outlook'}, {'data': {'hot': {'count': 4, 'verdict': {'no': 2, 'yes': 2}}, 'mild': {'count': 6, 'verdict': {'yes': 4, 'no': 2}}, 'cool': {'count': 4, 'verdict': {'yes': 3, 'no': 1}}}, 'feature': 'temperature'}, {'data': {'high': {'count': 7, 'verdict': {'no': 4, 'yes': 3}}, 'normal': {'count': 7, 'verdict': {'yes': 6, 'no': 1}}}, 'feature': 'humidity'}, {'data': {'false': {'count': 8, 'verdict': {'no': 2, 'yes': 6}}, 'true': {'count': 6, 'verdict': {'no': 3, 'yes': 3}}}, 'feature': 'windy'}]\n"
          ]
        }
      ],
      "source": [
        "ls = [] # list of all attributes\n",
        "# this will be as follows {feature: \"outlook\", data: { count: x, verdict: {yes, no or any other}} }\n",
        "\n",
        "features = list(data.columns)\n",
        "verdictValues = data_arr[:,cols-1]\n",
        "for i in range(cols-1):\n",
        "  temp = {\n",
        "      \"data\":{}\n",
        "  }\n",
        "  temp[\"feature\"] = features[i].lower()\n",
        "\n",
        "\n",
        "  for j in range(len(data_arr[:,i])):\n",
        "    tempType = str(data_arr[:,i][j]).lower()\n",
        "    if(tempType not in temp[\"data\"].keys()):\n",
        "      temp[\"data\"][tempType] = {\"count\": 0 , \"verdict\":{}}\n",
        "    temp[\"data\"][tempType][\"count\"] += 1\n",
        "\n",
        "    verdictValue = verdictValues[j]\n",
        "    if(verdictValue not in temp[\"data\"][tempType][\"verdict\"]):\n",
        "      temp[\"data\"][tempType][\"verdict\"][verdictValue] = 0\n",
        "    temp[\"data\"][tempType][\"verdict\"][verdictValue] += 1\n",
        "  \n",
        "  ls.append(temp)\n",
        "print(ls)"
      ]
    },
    {
      "cell_type": "markdown",
      "metadata": {
        "id": "-EqLknf979Ka"
      },
      "source": [
        "## Step 4: Bayes algorithm"
      ]
    },
    {
      "cell_type": "code",
      "execution_count": 4,
      "metadata": {
        "id": "dWyVFIPxxFw5"
      },
      "outputs": [],
      "source": [
        "# fromula for P(Yes|today)= P(today|Yes)*P(Yes)/P(today)\n",
        "def naiveBaye(verdict,param):\n",
        "  # e.g. p(yes|sunny) = p(sunny/yes)*p(yes) / p(sunny)\n",
        "  # p(yes) = count of yes / total count\n",
        "  # p(sunny) = count of sunny / total count\n",
        "  res = verdicts[\"type\"][verdict] / verdicts[\"total\"]\n",
        "  div = 1\n",
        "\n",
        "  index = 0\n",
        "  for i in param:\n",
        "    # p(sunny/yes) = count of yes in sunny / yes count\n",
        "    \n",
        "    res *= (ls[index][\"data\"][i][\"verdict\"][verdict]/verdicts[\"type\"][verdict])\n",
        "    div *= (ls[index][\"data\"][i][\"count\"] / verdicts[\"total\"])\n",
        "    index += 1\n",
        "  print(verdict + \": \",end=\"\")\n",
        "  print(round(res,4))\n",
        "  return (res/div)\n",
        "\n",
        "def bayesFunc(param = [\"sunny\",\"hot\",\"normal\",\"false\"]):\n",
        "  res = []\n",
        "  for verd in verdicts[\"type\"]:\n",
        "    temp = naiveBaye(verd,param)\n",
        "    res.append({verd:temp})\n",
        "  # print(res)\n",
        "  return res"
      ]
    },
    {
      "cell_type": "code",
      "execution_count": 5,
      "metadata": {
        "colab": {
          "base_uri": "https://localhost:8080/"
        },
        "id": "l8CrrTBD6e6B",
        "outputId": "be0c2e67-2189-44f9-da3d-8d6d087cfa4f"
      },
      "outputs": [
        {
          "name": "stdout",
          "output_type": "stream",
          "text": [
            "no: 0.0046\n",
            "yes: 0.0212\n",
            "[{'no': 0.15680000000000005}, {'yes': 0.7259259259259259}]\n"
          ]
        }
      ],
      "source": [
        "val = bayesFunc([\"sunny\",\"hot\",\"normal\",\"false\"])\n",
        "print(val)"
      ]
    },
    {
      "cell_type": "code",
      "execution_count": null,
      "metadata": {},
      "outputs": [],
      "source": []
    }
  ],
  "metadata": {
    "colab": {
      "collapsed_sections": [],
      "name": "ai-lab-practical-6.ipynb",
      "provenance": []
    },
    "kernelspec": {
      "display_name": "Python 3.10.4 64-bit",
      "language": "python",
      "name": "python3"
    },
    "language_info": {
      "codemirror_mode": {
        "name": "ipython",
        "version": 3
      },
      "file_extension": ".py",
      "mimetype": "text/x-python",
      "name": "python",
      "nbconvert_exporter": "python",
      "pygments_lexer": "ipython3",
      "version": "3.10.4"
    },
    "vscode": {
      "interpreter": {
        "hash": "876db7d3f8682b7e4c5477e5f1e2dc2bd1b19fe05d9aabd59218369070754b39"
      }
    }
  },
  "nbformat": 4,
  "nbformat_minor": 0
}
